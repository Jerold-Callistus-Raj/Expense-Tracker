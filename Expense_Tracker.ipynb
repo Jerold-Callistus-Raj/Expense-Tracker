{
  "nbformat": 4,
  "nbformat_minor": 0,
  "metadata": {
    "colab": {
      "provenance": []
    },
    "kernelspec": {
      "name": "python3",
      "display_name": "Python 3"
    },
    "language_info": {
      "name": "python"
    }
  },
  "cells": [
    {
      "cell_type": "markdown",
      "source": [
        "Project Overview"
      ],
      "metadata": {
        "id": "ON_oCuDqcQSr"
      }
    },
    {
      "cell_type": "markdown",
      "source": [
        "As we embark on Week 3 of your internship program, I am excited to introduce the project that will\n",
        "further enhance your skills in Python Programming. The upcoming task is the creation of a\n",
        "\"Expense Tracker\" as part of your Python Programming internship.\n",
        "The Expense Tracker project is designed to reinforce your understanding of Python programming\n",
        "concepts and enhance your skills in building practical applications. In this project, you will be\n",
        "developing an Expense Tracker application that allows users to manage their expenses efciently.\n",
        "This real-world application will involve handling data, user input, and implementing key"
      ],
      "metadata": {
        "id": "ZfOygw1ScVUd"
      }
    },
    {
      "cell_type": "code",
      "execution_count": null,
      "metadata": {
        "id": "6IC5kffQcJ6W"
      },
      "outputs": [],
      "source": [
        "import datetime"
      ]
    },
    {
      "cell_type": "code",
      "source": [
        "def get_expense_data():\n",
        "    \"\"\"Gets expense data from the user.\"\"\"\n",
        "\n",
        "    amount = float(input(\"Enter the expense amount: \"))\n",
        "    description = input(\"Enter a description of the expense: \")\n",
        "    category = input(\"Enter the expense category (e.g., groceries, rent, entertainment): \")\n",
        "    date_str = input(\"Enter the expense date (YYYY-MM-DD, or leave blank for today): \")\n",
        "\n",
        "    if date_str:\n",
        "        try:\n",
        "            date = datetime.datetime.strptime(date_str, \"%Y-%m-%d\").date()\n",
        "        except ValueError:\n",
        "            print(\"Invalid date format. Using today's date.\")\n",
        "            date = datetime.date.today()\n",
        "    else:\n",
        "        date = datetime.date.today()\n",
        "\n",
        "    return {\"amount\": amount, \"description\": description, \"category\": category, \"date\": date}\n"
      ],
      "metadata": {
        "id": "dzrlPa71cuua"
      },
      "execution_count": null,
      "outputs": []
    },
    {
      "cell_type": "code",
      "source": [
        "def display_expense(expense):\n",
        "    \"\"\"Displays a single expense.\"\"\"\n",
        "    print(f\"Date: {expense['date']}\")\n",
        "    print(f\"Amount: ${expense['amount']:.2f}\")\n",
        "    print(f\"Description: {expense['description']}\")\n",
        "    print(f\"Category: {expense['category']}\")\n",
        "    print(\"-\" * 20)\n"
      ],
      "metadata": {
        "id": "Oi0CT0cqu3cp"
      },
      "execution_count": null,
      "outputs": []
    },
    {
      "cell_type": "code",
      "source": [
        "def display_expenses(expenses):\n",
        "    \"\"\"Displays all expenses.\"\"\"\n",
        "\n",
        "    if not expenses:\n",
        "        print(\"No expenses recorded yet.\")\n",
        "        return\n",
        "\n",
        "    total_expenses = 0\n",
        "    for expense in expenses:\n",
        "        display_expense(expense)\n",
        "        total_expenses += expense['amount']\n",
        "\n",
        "    print(f\"Total Expenses: ${total_expenses:.2f}\")\n"
      ],
      "metadata": {
        "id": "0qe0_evov16i"
      },
      "execution_count": null,
      "outputs": []
    },
    {
      "cell_type": "code",
      "source": [
        "def main():\n",
        "    expenses = []\n",
        "\n",
        "    while True:\n",
        "        print(\"\\nExpense Tracker\")\n",
        "        print(\"1. Add Expense\")\n",
        "        print(\"2. View Expenses\")\n",
        "        print(\"3. Exit\")\n",
        "\n",
        "        choice = input(\"Enter your choice: \")\n",
        "\n",
        "        if choice == \"1\":\n",
        "            expense = get_expense_data()\n",
        "            expenses.append(expense)\n",
        "            print(\"Expense added successfully!\")\n",
        "        elif choice == \"2\":\n",
        "            display_expenses(expenses)\n",
        "        elif choice == \"3\":\n",
        "            print(\"Exiting...\")\n",
        "            break\n",
        "        else:\n",
        "            print(\"Invalid choice. Please try again.\")\n",
        "\n",
        "if __name__ == \"__main__\":\n",
        "    main()\n"
      ],
      "metadata": {
        "colab": {
          "base_uri": "https://localhost:8080/"
        },
        "id": "iEyIvfMU8BPG",
        "outputId": "3cbab749-f983-4262-dbd8-a13e96527d8a"
      },
      "execution_count": null,
      "outputs": [
        {
          "output_type": "stream",
          "name": "stdout",
          "text": [
            "\n",
            "Expense Tracker\n",
            "1. Add Expense\n",
            "2. View Expenses\n",
            "3. Exit\n",
            "Enter your choice: 1\n",
            "Enter the expense amount: 1500\n",
            "Enter a description of the expense: Vegetables\n",
            "Enter the expense category (e.g., groceries, rent, entertainment): groceries\n",
            "Enter the expense date (YYYY-MM-DD, or leave blank for today): \n",
            "Expense added successfully!\n",
            "\n",
            "Expense Tracker\n",
            "1. Add Expense\n",
            "2. View Expenses\n",
            "3. Exit\n",
            "Enter your choice: 2\n",
            "Date: 2025-03-05\n",
            "Amount: $1500.00\n",
            "Description: Vegetables\n",
            "Category: groceries\n",
            "--------------------\n",
            "Total Expenses: $1500.00\n",
            "\n",
            "Expense Tracker\n",
            "1. Add Expense\n",
            "2. View Expenses\n",
            "3. Exit\n",
            "Enter your choice: 3\n",
            "Exiting...\n"
          ]
        }
      ]
    },
    {
      "cell_type": "code",
      "source": [],
      "metadata": {
        "id": "muc4lW8s8EH6"
      },
      "execution_count": null,
      "outputs": []
    }
  ]
}